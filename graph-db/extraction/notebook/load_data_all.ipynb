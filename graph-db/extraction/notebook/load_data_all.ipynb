{
 "cells": [
  {
   "cell_type": "markdown",
   "metadata": {},
   "source": [
    "# Load /Update Data in neo4j graph database\n",
    "If first time loading, make sure to create constraints and indexes, and load in the following sequence\n",
    "- GO\n",
    "- ChEBI\n",
    "- Mesh\n",
    "- Enzyme\n",
    "- NCBI Taxonomy\n",
    "- NCBI Gene\n",
    "- BioCyc\n",
    "- RegulonDB\n",
    "- UniProt\n",
    "- StringDB\n",
    "- Kegg\n",
    "- PubMed\n",
    "- Literature"
   ]
  },
  {
   "cell_type": "code",
   "execution_count": 4,
   "metadata": {},
   "outputs": [],
   "source": [
    "import os, sys\n",
    "from neo4j import GraphDatabase\n",
    "import pandas as pd\n",
    "import importlib\n",
    "\n",
    "module_dir = os.getcwd().replace(\"notebook\", \"src\")\n",
    "if module_dir not in sys.path:\n",
    "    sys.path.append(module_dir)"
   ]
  },
  {
   "cell_type": "code",
   "execution_count": 2,
   "metadata": {},
   "outputs": [],
   "source": [
    "from common.database import *"
   ]
  },
  {
   "cell_type": "markdown",
   "metadata": {},
   "source": [
    "#### Database connection\n",
    "Belong are the code for presetting database connection (the second parameter is databaseName): \n",
    "\n",
    "```\n",
    "local_database = get_database(Neo4jInstance.LOCAL, 'neo4j')\n",
    "dtu_database = get_database(Neo4jInstance.DTU, 'lifelike')\n",
    "google_stg_database = get_database(Neo4jInstance.GOOGLE_STG, 'neo4j')\n",
    "google_prod_database = get_database(Neo4jInstance.GOOGLE_PROD, 'neo4j')\n",
    "```\n",
    "\n",
    "#### Environmental variable\n",
    "set BASE_DATA_DIR to be the parent directory of download and processed files. The structure is as follows: \n",
    "```\n",
    "export BASE_DATA_DIR = {your_data_dir}\n",
    "```\n",
    "\n",
    "- BASE_DATA_DIR\n",
    "    - download\n",
    "        - biocyc\n",
    "        - gene\n",
    "        - taxonomy\n",
    "        - uniprot\n",
    "        - kegg\n",
    "        - stringdb\n",
    "    - processed\n",
    "        - biocyc\n",
    "        - gene\n",
    "        - taxonomy\n",
    "        - uniprot\n",
    "        - kegg\n",
    "        - stringdb\n",
    "        \n",
    "\n",
    "\n"
   ]
  },
  {
   "cell_type": "markdown",
   "metadata": {},
   "source": [
    "# Load/Update GO (Gene Ontology)\n",
    "download  http://current.geneontology.org/ontology/go.obo {your base data dir}/download/go folder\n",
    "```\n",
    "curl -o $DOWNLOAD_DIR/go/go.obo http://current.geneontology.org/ontology/go.obo\n",
    "```"
   ]
  },
  {
   "cell_type": "markdown",
   "metadata": {},
   "source": [
    "#### Load go data  into neo4j"
   ]
  },
  {
   "cell_type": "code",
   "execution_count": 6,
   "metadata": {},
   "outputs": [],
   "source": [
    "from go.go_parser import GoOboParser\n",
    "database = get_database(Neo4jInstance.LOCAL, 'neo4j')\n",
    "parser = GoOboParser()\n",
    "parser.create_indexes(database)\n",
    "parser.load_data_to_neo4j(database)\n",
    "database.close()"
   ]
  },
  {
   "cell_type": "markdown",
   "metadata": {},
   "source": [
    "#### Update go data"
   ]
  },
  {
   "cell_type": "code",
   "execution_count": 8,
   "metadata": {},
   "outputs": [],
   "source": [
    "from go.go_parser import GoOboParser\n",
    "database = get_database(Neo4jInstance.LOCAL, 'neo4j')\n",
    "parser = GoOboParser()\n",
    "parser.load_data_to_neo4j(database)\n",
    "database.close()"
   ]
  },
  {
   "cell_type": "markdown",
   "metadata": {},
   "source": [
    "## Load/Update NCBI Taxonomy\n",
    "url: https://ftp.ncbi.nlm.nih.gov/pub/taxonomy/new_taxdump\n",
    "download new_taxdump.zip file to {your base dir}/download/taxonomy/, then unzip.  \n",
    "The unzipped files (*.dmp) will be at {your base dir}/download/taxonomy/new_taxdump\n",
    "    "
   ]
  },
  {
   "cell_type": "markdown",
   "metadata": {},
   "source": [
    "## Load/Update NCBI Genes\n",
    "Download ncbi genes from ftp://ftp.ncbi.nlm.nih.gov/gene/DATA/.  Parse and load data from gene_info file, and gene2go. \n",
    "\n",
    "#####  Run the following python script"
   ]
  },
  {
   "cell_type": "code",
   "execution_count": 4,
   "metadata": {},
   "outputs": [],
   "source": [
    "from ncbi.ncbi_gene_parser import GeneParser\n",
    "# Make sure use the right database connection\n",
    "database = get_database(Neo4jInstance.LOCAL, 'neo4j')\n",
    "parser = GeneParser()\n",
    "parser.load_data_to_neo4j(database)\n",
    "database.close()"
   ]
  },
  {
   "cell_type": "code",
   "execution_count": null,
   "metadata": {},
   "outputs": [],
   "source": []
  }
 ],
 "metadata": {
  "kernelspec": {
   "display_name": "Python 3",
   "language": "python",
   "name": "python3"
  },
  "language_info": {
   "codemirror_mode": {
    "name": "ipython",
    "version": 3
   },
   "file_extension": ".py",
   "mimetype": "text/x-python",
   "name": "python",
   "nbconvert_exporter": "python",
   "pygments_lexer": "ipython3",
   "version": "3.8.5"
  }
 },
 "nbformat": 4,
 "nbformat_minor": 4
}
