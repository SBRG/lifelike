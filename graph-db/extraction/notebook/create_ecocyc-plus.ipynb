{
 "cells": [
  {
   "cell_type": "markdown",
   "metadata": {},
   "source": [
    "# Build database EcoCyc-plus for network traversal and analysis\n",
    "\n",
    "Create ecocyc database using the steps described in \"create_ecocyc_mod_database_for_GDS.md\" except step 8. Don't remove currency metabolites. The add STRING data.  The database was deployed at dtu neo4j server as 'ecocyc-plus' database."
   ]
  },
  {
   "cell_type": "code",
   "execution_count": 33,
   "metadata": {},
   "outputs": [],
   "source": [
    "from py2neo import Graph\n",
    "from neo4j import GraphDatabase\n",
    "import pandas as pd\n",
    "import csv, os"
   ]
  },
  {
   "cell_type": "code",
   "execution_count": 34,
   "metadata": {},
   "outputs": [],
   "source": [
    "driver = GraphDatabase.driver('bolt://localhost:7687', auth=('neo4j', 'rcai'))"
   ]
  },
  {
   "cell_type": "markdown",
   "metadata": {},
   "source": [
    "## Load STRING relationships\n",
    "From documentation here's the categories. I think definitely the experimental evidence (purple) for physical interaction but we may also want to consider the green (gene neighborhood) and black (co-expression). This would significantly enrich the dataset. \n",
    "Ewa\n",
    "\n",
    "- Red line - indicates the presence of fusion evidence\n",
    "- Green line - neighborhood evidence\n",
    "- Blue line - cooccurrence evidence\n",
    "- Purple line - experimental evidence\n",
    "- Yellow line - textmining evidence\n",
    "- Light blue line - database evidence\n",
    "- Black line - coexpression evidence.\n"
   ]
  },
  {
   "cell_type": "markdown",
   "metadata": {},
   "source": [
    "Download the file 511145.protein.links.detailed.v11.0.txt.gz from https://string-db.org/cgi/download?sessionId=bp2V6CA10a3x"
   ]
  },
  {
   "cell_type": "code",
   "execution_count": 28,
   "metadata": {},
   "outputs": [
    {
     "name": "stdout",
     "output_type": "stream",
     "text": [
      "1060854\n"
     ]
    },
    {
     "data": {
      "text/html": [
       "<div>\n",
       "<style scoped>\n",
       "    .dataframe tbody tr th:only-of-type {\n",
       "        vertical-align: middle;\n",
       "    }\n",
       "\n",
       "    .dataframe tbody tr th {\n",
       "        vertical-align: top;\n",
       "    }\n",
       "\n",
       "    .dataframe thead th {\n",
       "        text-align: right;\n",
       "    }\n",
       "</style>\n",
       "<table border=\"1\" class=\"dataframe\">\n",
       "  <thead>\n",
       "    <tr style=\"text-align: right;\">\n",
       "      <th></th>\n",
       "      <th>protein1</th>\n",
       "      <th>protein2</th>\n",
       "      <th>neighborhood</th>\n",
       "      <th>fusion</th>\n",
       "      <th>cooccurence</th>\n",
       "      <th>coexpression</th>\n",
       "      <th>experimental</th>\n",
       "      <th>database</th>\n",
       "      <th>textmining</th>\n",
       "      <th>combined_score</th>\n",
       "    </tr>\n",
       "  </thead>\n",
       "  <tbody>\n",
       "    <tr>\n",
       "      <th>0</th>\n",
       "      <td>511145.b0001</td>\n",
       "      <td>511145.b3766</td>\n",
       "      <td>0</td>\n",
       "      <td>0</td>\n",
       "      <td>0</td>\n",
       "      <td>125</td>\n",
       "      <td>0</td>\n",
       "      <td>0</td>\n",
       "      <td>292</td>\n",
       "      <td>354</td>\n",
       "    </tr>\n",
       "    <tr>\n",
       "      <th>1</th>\n",
       "      <td>511145.b0001</td>\n",
       "      <td>511145.b2483</td>\n",
       "      <td>0</td>\n",
       "      <td>0</td>\n",
       "      <td>0</td>\n",
       "      <td>0</td>\n",
       "      <td>0</td>\n",
       "      <td>0</td>\n",
       "      <td>430</td>\n",
       "      <td>430</td>\n",
       "    </tr>\n",
       "    <tr>\n",
       "      <th>2</th>\n",
       "      <td>511145.b0001</td>\n",
       "      <td>511145.b0075</td>\n",
       "      <td>0</td>\n",
       "      <td>0</td>\n",
       "      <td>0</td>\n",
       "      <td>0</td>\n",
       "      <td>0</td>\n",
       "      <td>0</td>\n",
       "      <td>303</td>\n",
       "      <td>303</td>\n",
       "    </tr>\n",
       "    <tr>\n",
       "      <th>3</th>\n",
       "      <td>511145.b0001</td>\n",
       "      <td>511145.b3672</td>\n",
       "      <td>0</td>\n",
       "      <td>0</td>\n",
       "      <td>0</td>\n",
       "      <td>0</td>\n",
       "      <td>0</td>\n",
       "      <td>0</td>\n",
       "      <td>408</td>\n",
       "      <td>408</td>\n",
       "    </tr>\n",
       "    <tr>\n",
       "      <th>4</th>\n",
       "      <td>511145.b0001</td>\n",
       "      <td>511145.b0861</td>\n",
       "      <td>0</td>\n",
       "      <td>0</td>\n",
       "      <td>0</td>\n",
       "      <td>0</td>\n",
       "      <td>0</td>\n",
       "      <td>0</td>\n",
       "      <td>306</td>\n",
       "      <td>306</td>\n",
       "    </tr>\n",
       "  </tbody>\n",
       "</table>\n",
       "</div>"
      ],
      "text/plain": [
       "       protein1      protein2  neighborhood  fusion  cooccurence  \\\n",
       "0  511145.b0001  511145.b3766             0       0            0   \n",
       "1  511145.b0001  511145.b2483             0       0            0   \n",
       "2  511145.b0001  511145.b0075             0       0            0   \n",
       "3  511145.b0001  511145.b3672             0       0            0   \n",
       "4  511145.b0001  511145.b0861             0       0            0   \n",
       "\n",
       "   coexpression  experimental  database  textmining  combined_score  \n",
       "0           125             0         0         292             354  \n",
       "1             0             0         0         430             430  \n",
       "2             0             0         0         303             303  \n",
       "3             0             0         0         408             408  \n",
       "4             0             0         0         306             306  "
      ]
     },
     "execution_count": 28,
     "metadata": {},
     "output_type": "execute_result"
    }
   ],
   "source": [
    "file = \"511145.protein.links.detailed.v11.0.txt.gz\"  # use the correct file path in your computer\n",
    "df = pd.read_csv(file, sep=' ')\n",
    "print(len(df))\n",
    "df.head()"
   ]
  },
  {
   "cell_type": "markdown",
   "metadata": {},
   "source": [
    "##### STRING ID contains tax_id and b-number.  Use b-number to match EcoCyc gene accession "
   ]
  },
  {
   "cell_type": "code",
   "execution_count": 29,
   "metadata": {},
   "outputs": [
    {
     "data": {
      "text/html": [
       "<div>\n",
       "<style scoped>\n",
       "    .dataframe tbody tr th:only-of-type {\n",
       "        vertical-align: middle;\n",
       "    }\n",
       "\n",
       "    .dataframe tbody tr th {\n",
       "        vertical-align: top;\n",
       "    }\n",
       "\n",
       "    .dataframe thead th {\n",
       "        text-align: right;\n",
       "    }\n",
       "</style>\n",
       "<table border=\"1\" class=\"dataframe\">\n",
       "  <thead>\n",
       "    <tr style=\"text-align: right;\">\n",
       "      <th></th>\n",
       "      <th>protein1</th>\n",
       "      <th>protein2</th>\n",
       "      <th>neighborhood</th>\n",
       "      <th>fusion</th>\n",
       "      <th>cooccurence</th>\n",
       "      <th>coexpression</th>\n",
       "      <th>experimental</th>\n",
       "      <th>database</th>\n",
       "      <th>textmining</th>\n",
       "      <th>combined_score</th>\n",
       "    </tr>\n",
       "  </thead>\n",
       "  <tbody>\n",
       "    <tr>\n",
       "      <th>0</th>\n",
       "      <td>b0001</td>\n",
       "      <td>b3766</td>\n",
       "      <td>0</td>\n",
       "      <td>0</td>\n",
       "      <td>0</td>\n",
       "      <td>125</td>\n",
       "      <td>0</td>\n",
       "      <td>0</td>\n",
       "      <td>292</td>\n",
       "      <td>354</td>\n",
       "    </tr>\n",
       "    <tr>\n",
       "      <th>1</th>\n",
       "      <td>b0001</td>\n",
       "      <td>b2483</td>\n",
       "      <td>0</td>\n",
       "      <td>0</td>\n",
       "      <td>0</td>\n",
       "      <td>0</td>\n",
       "      <td>0</td>\n",
       "      <td>0</td>\n",
       "      <td>430</td>\n",
       "      <td>430</td>\n",
       "    </tr>\n",
       "    <tr>\n",
       "      <th>2</th>\n",
       "      <td>b0001</td>\n",
       "      <td>b0075</td>\n",
       "      <td>0</td>\n",
       "      <td>0</td>\n",
       "      <td>0</td>\n",
       "      <td>0</td>\n",
       "      <td>0</td>\n",
       "      <td>0</td>\n",
       "      <td>303</td>\n",
       "      <td>303</td>\n",
       "    </tr>\n",
       "    <tr>\n",
       "      <th>3</th>\n",
       "      <td>b0001</td>\n",
       "      <td>b3672</td>\n",
       "      <td>0</td>\n",
       "      <td>0</td>\n",
       "      <td>0</td>\n",
       "      <td>0</td>\n",
       "      <td>0</td>\n",
       "      <td>0</td>\n",
       "      <td>408</td>\n",
       "      <td>408</td>\n",
       "    </tr>\n",
       "    <tr>\n",
       "      <th>4</th>\n",
       "      <td>b0001</td>\n",
       "      <td>b0861</td>\n",
       "      <td>0</td>\n",
       "      <td>0</td>\n",
       "      <td>0</td>\n",
       "      <td>0</td>\n",
       "      <td>0</td>\n",
       "      <td>0</td>\n",
       "      <td>306</td>\n",
       "      <td>306</td>\n",
       "    </tr>\n",
       "  </tbody>\n",
       "</table>\n",
       "</div>"
      ],
      "text/plain": [
       "  protein1 protein2  neighborhood  fusion  cooccurence  coexpression  \\\n",
       "0    b0001    b3766             0       0            0           125   \n",
       "1    b0001    b2483             0       0            0             0   \n",
       "2    b0001    b0075             0       0            0             0   \n",
       "3    b0001    b3672             0       0            0             0   \n",
       "4    b0001    b0861             0       0            0             0   \n",
       "\n",
       "   experimental  database  textmining  combined_score  \n",
       "0             0         0         292             354  \n",
       "1             0         0         430             430  \n",
       "2             0         0         303             303  \n",
       "3             0         0         408             408  \n",
       "4             0         0         306             306  "
      ]
     },
     "execution_count": 29,
     "metadata": {},
     "output_type": "execute_result"
    }
   ],
   "source": [
    "df['protein1'] = df['protein1'].str.replace('511145.', '')\n",
    "df['protein2'] = df['protein2'].str.replace('511145.', '')\n",
    "df.head()"
   ]
  },
  {
   "cell_type": "code",
   "execution_count": 35,
   "metadata": {},
   "outputs": [
    {
     "data": {
      "text/plain": [
       "1060854"
      ]
     },
     "execution_count": 35,
     "metadata": {},
     "output_type": "execute_result"
    }
   ],
   "source": [
    "len(df)"
   ]
  },
  {
   "cell_type": "markdown",
   "metadata": {},
   "source": [
    "#### Create gene links for E. coli genes\n",
    "Use relationship type 'LINKED_TO' with properties 'source', 'type' and 'score'   \n",
    "e.g.  source='db_STRING', type='neighborhood', score = 230\n",
    "\n",
    "Create index for gene property accession\n",
    "```\n",
    "create index idx_gene_accession for (n:Gene) on (n.accession);\n",
    "```"
   ]
  },
  {
   "cell_type": "code",
   "execution_count": 36,
   "metadata": {},
   "outputs": [],
   "source": [
    "def insert_links(input_df, link_type, db_name):\n",
    "    df = input_df[['protein1', 'protein2', link_type]]\n",
    "    df = df[df[link_type]>0]\n",
    "    print(link_type, len(df))\n",
    "    df.rename(columns={link_type: 'score'}, inplace=True)\n",
    "    query = \"\"\"\n",
    "        WITH $rows as rows unwind rows as row \n",
    "        MATCH (n1:Gene {accession:row.protein1}), (n2:Gene {accession:row.protein2}) \n",
    "        MERGE (n1)-[r:LINKED_TO {source:'db_STRING', type:$linktype, score: toFloat(row.score)/1000}]->(n2) \n",
    "        \"\"\"\n",
    "#     print(query)\n",
    "    rows = df.to_dict('records')\n",
    "    with driver.session(database=db_name) as session:\n",
    "        info = session.run(query, rows=rows, linktype=link_type).consume()\n",
    "        print(info.counters)"
   ]
  },
  {
   "cell_type": "code",
   "execution_count": 37,
   "metadata": {},
   "outputs": [
    {
     "name": "stdout",
     "output_type": "stream",
     "text": [
      "neighborhood 291100\n",
      "{'relationships_created': 291096, 'properties_set': 873288}\n"
     ]
    }
   ],
   "source": [
    "dbname = 'ecocyc-plus'\n",
    "insert_links(df, 'neighborhood', dbname)"
   ]
  },
  {
   "cell_type": "code",
   "execution_count": 38,
   "metadata": {},
   "outputs": [
    {
     "name": "stdout",
     "output_type": "stream",
     "text": [
      "coexpression 320706\n",
      "{'relationships_created': 320706, 'properties_set': 962118}\n"
     ]
    }
   ],
   "source": [
    "insert_links(df, 'coexpression', dbname)"
   ]
  },
  {
   "cell_type": "code",
   "execution_count": 39,
   "metadata": {},
   "outputs": [
    {
     "name": "stdout",
     "output_type": "stream",
     "text": [
      "experimental 132150\n",
      "{'relationships_created': 132150, 'properties_set': 396450}\n"
     ]
    }
   ],
   "source": [
    "insert_links(df, 'experimental', dbname)"
   ]
  },
  {
   "cell_type": "code",
   "execution_count": null,
   "metadata": {},
   "outputs": [],
   "source": []
  }
 ],
 "metadata": {
  "kernelspec": {
   "display_name": "Python 3",
   "language": "python",
   "name": "python3"
  },
  "language_info": {
   "codemirror_mode": {
    "name": "ipython",
    "version": 3
   },
   "file_extension": ".py",
   "mimetype": "text/x-python",
   "name": "python",
   "nbconvert_exporter": "python",
   "pygments_lexer": "ipython3",
   "version": "3.8.5"
  }
 },
 "nbformat": 4,
 "nbformat_minor": 2
}
