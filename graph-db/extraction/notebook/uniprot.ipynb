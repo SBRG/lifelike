{
 "cells": [
  {
   "cell_type": "code",
   "execution_count": 27,
   "metadata": {},
   "outputs": [],
   "source": [
    "import pandas as pd\n",
    "from py2neo import Graph, GraphService\n",
    "from neo4j import GraphDatabase\n",
    "import sys, os\n"
   ]
  },
  {
   "cell_type": "code",
   "execution_count": 28,
   "metadata": {},
   "outputs": [],
   "source": [
    "module_dir = os.getcwd().replace(\"notebook\", \"src\")\n",
    "if module_dir not in sys.path:\n",
    "    sys.path.append(module_dir)\n",
    "from common import utils\n",
    "from common.database import *"
   ]
  },
  {
   "cell_type": "code",
   "execution_count": null,
   "metadata": {},
   "outputs": [],
   "source": []
  },
  {
   "cell_type": "code",
   "execution_count": 29,
   "metadata": {},
   "outputs": [],
   "source": [
    "# graph_staging = Graph('bolt://34.67.212.125:7687', auth=('neo4j', 'Lifelike0.9staging'))\n",
    "# graph_dtu = Graph('bolt+s://kg.biosustain.dtu.dk:7687', auth=('robin', 'kTxu$drJ%3C3^cHk'))\n",
    "graph = Graph('bolt://localhost:7687', auth=('neo4j', 'rcai'))"
   ]
  },
  {
   "cell_type": "markdown",
   "metadata": {},
   "source": [
    "# Create new protein LMDB file (LL-3056)"
   ]
  },
  {
   "cell_type": "markdown",
   "metadata": {},
   "source": [
    "#### add uniprot protein name and id as synonym\n",
    "\n",
    "```\n",
    "call apoc.periodic.iterate(\n",
    "    \"match(n:db_UniProt) return n\",\n",
    "    \"merge (s:Synonym {name:n.name}) merge (n)-[:HAS_SYNONYM]->(s)\",\n",
    "    {batchSize: 10000}\n",
    ");\n",
    "\n",
    "call apoc.periodic.iterate(\n",
    "    \"match(n:db_UniProt) return n\",\n",
    "    \"merge (s:Synonym {name:n.id}) merge (n)-[:HAS_SYNONYM]->(s)\",\n",
    "    {batchSize: 10000}\n",
    ");\n",
    "\n",
    "call apoc.periodic.iterate(\n",
    "\"match(n:db_UniProt)-[:HAS_TAXONOMY]-(t) return n, t\",\n",
    "\"set n.tax_id = t.id\",\n",
    "{batchSize: 5000}\n",
    ")\n",
    "```"
   ]
  },
  {
   "cell_type": "code",
   "execution_count": 30,
   "metadata": {},
   "outputs": [
    {
     "name": "stdout",
     "output_type": "stream",
     "text": [
      "2643366\n"
     ]
    }
   ],
   "source": [
    "query = \"\"\"\n",
    "match(n:db_UniProt)-[:HAS_SYNONYM]-(s) \n",
    "return n.id as id, n.name as name, s.name as synonym, n.tax_id as tax_id, n.data_source as data_source\n",
    "\"\"\"\n",
    "df = graph.run(query).to_data_frame()\n",
    "print(len(df))\n",
    "df.to_csv('/Users/rcai/data/notebook/uniprot/ProteinForLMDB_20210527.tsv', sep='\\t', index=False)"
   ]
  },
  {
   "cell_type": "code",
   "execution_count": 26,
   "metadata": {},
   "outputs": [],
   "source": [
    "#df.to_csv('/Users/rcai/data/notebook/uniprot/ProteinForLMDB_04062021.tsv.gz', sep='\\t', index=False, compression='gzip')"
   ]
  },
  {
   "cell_type": "markdown",
   "metadata": {},
   "source": [
    "## Add BioCyc(Ecoli and Human) protein synonyms as Uniprot Protein Synonyms (LL-3080)"
   ]
  },
  {
   "cell_type": "code",
   "execution_count": 11,
   "metadata": {},
   "outputs": [
    {
     "name": "stdout",
     "output_type": "stream",
     "text": [
      "22973\n"
     ]
    }
   ],
   "source": [
    "# check biocyc synonyms that are not uniprot synonyms\n",
    "query = \"\"\"\n",
    "match(n:Protein:db_BioCyc)-[:ENCODES]-()-[:IS]-()-[:HAS_GENE]-(p:db_UniProt) \n",
    "where 'db_EcoCyc' in labels(n) or 'db_HumanCyc' in labels(n)\n",
    "with n, p match (p)-[:HAS_SYNONYM]-(s) with n, p, collect(s) as psyn \n",
    "match (n)-[:HAS_SYNONYM]-(s) where not s in psyn \n",
    "return p.id as uniprotId, p.name as uniprotName, n.id as biocycId, n.name as biocycName, s.name as biocycSyn \n",
    "\"\"\"\n",
    "graph = Graph('bolt://localhost:7687', auth=('neo4j', 'rcai'))\n",
    "df = graph.run(query).to_data_frame()\n",
    "print(len(df))\n",
    "df.to_csv('/Users/rcai/data/notebook/uniprot/biocyc_syns_notInUniprot.tsv', sep='\\t', index=False)\n",
    "graph.close()"
   ]
  },
  {
   "cell_type": "markdown",
   "metadata": {},
   "source": [
    "Many biocyc protein synonym is EC number, e.g. 3.4.24.-. Remove those from Synonym nodes. Also some NCBI genes have a synonym contains no non-digit character. \n",
    "\n",
    "Query:\n",
    "```\n",
    "match(n:Synonym) where n.name =~ '[^a-zA-Z]*' detach delete n\n",
    "```"
   ]
  },
  {
   "cell_type": "code",
   "execution_count": 20,
   "metadata": {},
   "outputs": [
    {
     "name": "stdout",
     "output_type": "stream",
     "text": [
      "7118\n"
     ]
    }
   ],
   "source": [
    "# get only single word synonym\n",
    "query = \"\"\"\n",
    "match(n:Protein:db_BioCyc)-[:ENCODES]-()-[:IS]-(g)-[:HAS_GENE]-(p:db_UniProt) \n",
    "where 'db_EcoCyc' in labels(n) or 'db_HumanCyc' in labels(n)\n",
    "with n, g, p match (p)-[:HAS_SYNONYM]-(s) with n, g, p, collect(s) as psyn \n",
    "match (n)-[:HAS_SYNONYM]-(s) where not s in psyn and s.name =~ '[\\w-]*'\n",
    "return p.id as uniprotId, p.name as uniprotName, p.gene_name as uniprotGeneName, g.id as geneId, g.name as geneName, s.name as biocycSyn\n",
    "\"\"\"\n",
    "graph = Graph('bolt://localhost:7687', auth=('neo4j', 'rcai'))\n",
    "df = graph.run(query).to_data_frame()\n",
    "print(len(df))\n",
    "df.to_excel('/Users/rcai/data/notebook/uniprot/biocyc_simple_syns_ForUniprot.xlsx', index=False)\n"
   ]
  },
  {
   "cell_type": "markdown",
   "metadata": {},
   "source": [
    "##### get only single word synonym, and filter out synonyms linked to E coli insert genes (e.g. insA1, insA2, insA3) due to many-many relationships\n"
   ]
  },
  {
   "cell_type": "code",
   "execution_count": 26,
   "metadata": {},
   "outputs": [
    {
     "name": "stdout",
     "output_type": "stream",
     "text": [
      "6809\n"
     ]
    }
   ],
   "source": [
    "query = \"\"\"\n",
    "match(n:db_EcoCyc:Gene) where n.name =~'ins[A-Z][0-9]+' with collect(n) as filteredGenes \n",
    "match(n:Protein:db_BioCyc)-[:ENCODES]-(g)-[:IS]-()-[:HAS_GENE]-(p:db_UniProt) \n",
    "where ('db_EcoCyc' in labels(n) or 'db_HumanCyc' in labels(n)) and not g in filteredGenes\n",
    "with n, g, p match (p)-[:HAS_SYNONYM]-(s) with n, g, p, collect(s) as psyn \n",
    "match (n)-[:HAS_SYNONYM]-(s) where not s in psyn and s.name =~ '[\\w-]*'\n",
    "return p.id as uniprotId, p.name as uniprotName, p.gene_name as uniprotGeneName, g.name as matchedGeneName, s.name as biocycSyn\n",
    "\"\"\"\n",
    "graph = Graph('bolt://localhost:7687', auth=('neo4j', 'rcai'))\n",
    "df = graph.run(query).to_data_frame()\n",
    "print(len(df))\n",
    "df.to_excel('/Users/rcai/data/notebook/uniprot/biocyc_simple_syns_ForUniprot_filtered.xlsx', index=False)\n"
   ]
  },
  {
   "cell_type": "markdown",
   "metadata": {},
   "source": [
    "#### Add biocyc protein synonyms as uniprot synonyms\n",
    "```\n",
    "match(n:db_EcoCyc:Gene) where n.name =~'ins[A-Z][0-9]+' with collect(n) as filteredGenes \n",
    "match(n:Protein:db_BioCyc)-[:ENCODES]-(g)-[:IS]-()-[:HAS_GENE]-(p:db_UniProt) \n",
    "where ('db_EcoCyc' in labels(n) or 'db_HumanCyc' in labels(n)) and not g in filteredGenes\n",
    "with n, g, p match (p)-[:HAS_SYNONYM]-(s) with n, g, p, collect(s) as psyn \n",
    "match (n)-[:HAS_SYNONYM]-(s) where not s in psyn and s.name =~ '[\\w-]*'\n",
    "merge (p)-[:HAS_SYNONYM]->(s)\n",
    "```"
   ]
  },
  {
   "cell_type": "code",
   "execution_count": null,
   "metadata": {},
   "outputs": [],
   "source": []
  }
 ],
 "metadata": {
  "kernelspec": {
   "display_name": "Python 3",
   "language": "python",
   "name": "python3"
  },
  "language_info": {
   "codemirror_mode": {
    "name": "ipython",
    "version": 3
   },
   "file_extension": ".py",
   "mimetype": "text/x-python",
   "name": "python",
   "nbconvert_exporter": "python",
   "pygments_lexer": "ipython3",
   "version": "3.8.5"
  }
 },
 "nbformat": 4,
 "nbformat_minor": 4
}
