{
 "cells": [
  {
   "cell_type": "markdown",
   "metadata": {},
   "source": [
    "# Update NCBI genes in neo4j (LL-3040)"
   ]
  },
  {
   "cell_type": "markdown",
   "metadata": {},
   "source": [
    "#### Code for update neo4j database\n",
    "```\n",
    "from ncbi.ncbi_gene_parser import GeneParser\n",
    "database = get_database(Neo4jInstance.LOCAL, 'neo4j')\n",
    "parser = GeneParser()\n",
    "parser.load_data_to_neo4j(database)\n",
    "database.close()\n",
    "```"
   ]
  },
  {
   "cell_type": "markdown",
   "metadata": {},
   "source": [
    "#### comparison of gene data in neo4j before and after updating\n",
    "\n",
    "- Total NCBI genes:  28,345,189 -> 34,092,914\n",
    "- Genes removed: 1,865,854.  6216 of the removed genes had relationship (:HAS_GENE) in lifelike database, which means there were proteins (uniprot or string) associated with those genes\n",
    "\n",
    "- Human genes: 95 genes discontinued or replaced. Three of the removed genes had relationships with uniprot/string proteins\n",
    "\n",
    "- New organisms added with new genes\n",
    "- In the new gene.info file, synonyms did not include gene symbol anymore.  A synonym could be retired locus-tag. Therefore add both gene symbol (gene name) and locus-tag as synonym\n",
    "- Since updating took a long time, run creating gene2tax relationships, associating gene name and locus-tag as synonym as cypher, that was much faster"
   ]
  },
  {
   "cell_type": "markdown",
   "metadata": {},
   "source": [
    "#### Code for generating LMDB annotation file\n",
    "```\n",
    "parser = GeneParser()\n",
    "parser.write_lmdb_annotation_file()\n",
    "```\n",
    "tar file was generated for the genelist file, then uploaded into google cloud storage as   \n",
    "gs://annotation-data-files/genelist_for_LMDB_20210524.tar.gz"
   ]
  },
  {
   "cell_type": "code",
   "execution_count": null,
   "metadata": {},
   "outputs": [],
   "source": []
  }
 ],
 "metadata": {
  "kernelspec": {
   "display_name": "Python 3",
   "language": "python",
   "name": "python3"
  },
  "language_info": {
   "codemirror_mode": {
    "name": "ipython",
    "version": 3
   },
   "file_extension": ".py",
   "mimetype": "text/x-python",
   "name": "python",
   "nbconvert_exporter": "python",
   "pygments_lexer": "ipython3",
   "version": "3.8.5"
  }
 },
 "nbformat": 4,
 "nbformat_minor": 4
}
